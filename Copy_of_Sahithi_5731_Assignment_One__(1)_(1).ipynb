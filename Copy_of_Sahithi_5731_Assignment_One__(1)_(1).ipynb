{
  "cells": [
    {
      "cell_type": "markdown",
      "metadata": {
        "id": "view-in-github"
      },
      "source": [
        "<a href=\"https://colab.research.google.com/github/unt-iialab/INFO5731_Spring2020/blob/master/Assignments/INFO5731_Assignment_One.ipynb\" target=\"_parent\"><img src=\"https://colab.research.google.com/assets/colab-badge.svg\" alt=\"Open In Colab\"/></a>"
      ]
    },
    {
      "cell_type": "markdown",
      "metadata": {
        "id": "Ryk8D1Q4Wsrp"
      },
      "source": [
        "# **INFO5731 Assignment One**"
      ]
    },
    {
      "cell_type": "markdown",
      "metadata": {
        "id": "90_NR8c5XGWc"
      },
      "source": [
        "# Question 1\n",
        "\n",
        "(20 points). Write a Python program to generate 12 random numbers between 1 and 100. Sort the list of numbers in ascending order and print it out. Sort the list of numbers in descending order and print it out. Calculate the average for the group and print it out."
      ]
    },
    {
      "cell_type": "code",
      "execution_count": null,
      "metadata": {
        "colab": {
          "base_uri": "https://localhost:8080/"
        },
        "id": "5QX6bJjGWXY9",
        "outputId": "7c592c85-ea5f-4a70-cfc4-76fa01f175fd"
      },
      "outputs": [
        {
          "output_type": "stream",
          "name": "stdout",
          "text": [
            "[9, 64, 48, 99, 41, 45, 32, 79, 45, 50, 21, 87]\n",
            "Ascending order: [9, 21, 32, 41, 45, 45, 48, 50, 64, 79, 87, 99]\n",
            "Descending order: [99, 87, 79, 64, 50, 48, 45, 45, 41, 32, 21, 9]\n",
            "Average is 51.666666666666664\n"
          ]
        }
      ],
      "source": [
        "import random\n",
        "l=[]\n",
        "for i in range(12):\n",
        "  l.append(random.randint(1,100))\n",
        "print(l)\n",
        "l.sort()\n",
        "print(\"Ascending order:\",l)\n",
        "l.sort(reverse=True)\n",
        "print(\"Descending order:\",l)\n",
        "print(\"Average is\",sum(l)/len(l))\n",
        "\n"
      ]
    },
    {
      "cell_type": "markdown",
      "metadata": {
        "id": "1F_PZdH9Sh49"
      },
      "source": [
        "# Question 2\n",
        "(25 points). Write a program that will do the following string formatting tasks:\n",
        "\n",
        "(1) Ask the user to enter two sentences.\n",
        "\n",
        "(2) Make each sentence into a list. Each element in the list should correspond to a word in the sentence. For example, if the sentence is \"Alas! Am I alive? This is my first python program\", the program should print out ['Alas, '!', 'Am', 'I', 'alive, '?', 'This', 'is', 'my', 'first', 'python', 'program'].\n",
        "\n",
        "(3) Compare the two sentences. Print out a list of words that occur in both sentences.\n",
        "\n",
        "(4) Remove any punctuation from the sentence and print it back out. It should remove at least the following characters, but it can remove more: period(“.”), comma (“,”), semicolon (“;”), and colon (“:”)\n",
        "\n",
        "(5) Count the number of vowels in the sentences. Print out each vowel and the number of times it appears in the sentences, such as: a:2, e:1, i:0, etc"
      ]
    },
    {
      "cell_type": "code",
      "source": [
        "s1=\"Hi, how are you doing\"\n",
        "s2=\"Alas! I am doing great\"\n",
        "print(s1)\n",
        "print(s2)\n",
        "l1=s1.split(\" \")\n",
        "l2=s2.split(\" \")\n",
        "print(l1)\n",
        "print(l2)\n",
        "for i in l1:\n",
        "  if i in l2:\n",
        "    print(i)\n",
        "p_list=[\".\",\",\",\":\",\";\",\"?\",\"!\"]\n",
        "for i in s1:\n",
        "  if i in p_list:\n",
        "    s1=s1.replace(i,\"\")\n",
        "print(s1)\n",
        "for i in s2:\n",
        "  if i in p_list:\n",
        "    s2=s2.replace(i,\"\")\n",
        "print(s2)\n",
        "d1={}\n",
        "d2={}\n",
        "vowels=[\"a\",\"e\",\"i\",\"o\",\"u\"]\n",
        "for i in s1:\n",
        "  if i in vowels:\n",
        "    d1[i]=s1.count(i)\n",
        "print(d1)\n",
        "for i in s2:\n",
        "  if i in vowels:\n",
        "    d2[i]=s2.count(i)\n",
        "print(d2)\n",
        "\n"
      ],
      "metadata": {
        "colab": {
          "base_uri": "https://localhost:8080/"
        },
        "id": "c88dj3D6QxoZ",
        "outputId": "2704498d-6bd4-4930-f017-c9432355dd95"
      },
      "execution_count": null,
      "outputs": [
        {
          "output_type": "stream",
          "name": "stdout",
          "text": [
            "Hi, how are you doing\n",
            "Alas! I am doing great\n",
            "['Hi,', 'how', 'are', 'you', 'doing']\n",
            "['Alas!', 'I', 'am', 'doing', 'great']\n",
            "doing\n",
            "Hi how are you doing\n",
            "Alas I am doing great\n",
            "{'i': 2, 'o': 3, 'a': 1, 'e': 1, 'u': 1}\n",
            "{'a': 3, 'o': 1, 'i': 1, 'e': 1}\n"
          ]
        }
      ]
    },
    {
      "cell_type": "markdown",
      "metadata": {
        "id": "CmFoI4jDS9nx"
      },
      "source": [
        "# Question 3 \n",
        "\n",
        "(15 points). The formula that describes the volume V of a sphere with radius r is the following:\n",
        "\n",
        "$ V=\\frac{4}{3}\\ast\\ \\pi\\ast\\ r^3 $\n",
        "\n",
        "Write a program to calculate the value of V when r is in the range of 1–10. Output the result in the following format:\n",
        "\n",
        "\tr\tV\n",
        "\t1\t…\n",
        "\t2\t…\n",
        "\t3\t…\n"
      ]
    },
    {
      "cell_type": "code",
      "execution_count": null,
      "metadata": {
        "id": "pEyqeioAT95b",
        "colab": {
          "base_uri": "https://localhost:8080/"
        },
        "outputId": "4a2aaf16-94b9-4e8b-8206-db7fe5d02b12"
      },
      "outputs": [
        {
          "output_type": "stream",
          "name": "stdout",
          "text": [
            "8\n",
            "Volume is: 2143.5733333333333\n"
          ]
        }
      ],
      "source": [
        "pi=3.14\n",
        "r=random.randint(1,10)\n",
        "print(r)\n",
        "v=(4/3)*pi*(r**3)\n",
        "print(\"Volume is:\",v)\n",
        "\n",
        "\n"
      ]
    },
    {
      "cell_type": "markdown",
      "metadata": {
        "id": "z3tBE7E-Xn5X"
      },
      "source": [
        "# Question 4\n",
        "\n",
        "(40 points). In the field of Data Science, data is often formatted as a comma-delimited (CSV) file, where each line in a file corresponds to a field's value. Refer to Chapter 9 (p. 106) for more information on comma-delimited files. To answer this question, you will need to download the file [Assignment1_denton_housing.csv](https://raw.githubusercontent.com/unt-iialab/info5731-spring2022/main/assignments/Assignment1_denton_housing.csv) included with this assignment. The file [Assignment1_denton_housing.csv](https://raw.githubusercontent.com/unt-iialab/info5731-spring2022/main/assignments/Assignment1_denton_housing.csv) contains statistics about housing in the city of Denton from 2008 to 2014. Write a program to implement the following questions.\n",
        "\n",
        "(1) (10 pts) Calculate the difference in the number of Occupied Housing Units from year to year and print it. The difference must be calculated for the consecutive years such as 2008-2009, 2009-2010 etc. Finally, print the values in the ascending order.\n",
        "\n",
        "(2) (10 pts) For all the years, calculate the percentage of housing units which are vacant an occupied. Print the results in the following format:\n",
        "\n",
        "Year Vacant Housing Units Occupied Housing Units\n",
        "\n",
        "    2008  30%   70%                          \n",
        "\t2009 ----- -----\n",
        "\t2010 ----- -----\n",
        "    2011 ----- -----\n",
        "\t2012 ----- -----\n",
        "    2013 ----- -----\n",
        "\t2014 ----- -----\n",
        "  \n",
        "  \n",
        "\n",
        "(3) (10 pts) Calculate and print the valued and years in which the highest number of housing units were vacant and occupied. Print the results in the following format:  \n",
        "\n",
        "                              Year\tValue\n",
        "\tVacant Housing Units\t  -----   -----\n",
        "\tOccupied Housing Units\t-----   -----\n",
        "\n",
        "(4) (10 pts) Calculate the harmonic mean of the total housing units and print it out. You can find the information about harmonic mean here: https://ncalculators.com/statistics/harmonic-mean-calculator.htm"
      ]
    },
    {
      "cell_type": "markdown",
      "source": [],
      "metadata": {
        "id": "AbQfFY8g9aBE"
      }
    },
    {
      "cell_type": "code",
      "execution_count": null,
      "metadata": {
        "id": "lqGYuHBhcsRH",
        "colab": {
          "base_uri": "https://localhost:8080/"
        },
        "outputId": "c8da2a0e-3af4-45c0-d815-8f1b95bdc6b2"
      },
      "outputs": [
        {
          "output_type": "stream",
          "name": "stdout",
          "text": [
            "Mounted at /content/drive\n"
          ]
        }
      ],
      "source": [
        "from google.colab import drive\n",
        "drive.mount('/content/drive')\n",
        "path='/content/drive/My Drive/Assignment1_denton_housing.csv'"
      ]
    },
    {
      "cell_type": "code",
      "source": [
        "import pandas as pd\n",
        "from collections import Counter\n",
        "data = pd.read_csv(path)"
      ],
      "metadata": {
        "id": "ozP5I3DkaEXo"
      },
      "execution_count": null,
      "outputs": []
    },
    {
      "cell_type": "markdown",
      "source": [
        "1)"
      ],
      "metadata": {
        "id": "QWqgYCUg9dYS"
      }
    },
    {
      "cell_type": "code",
      "source": [
        "house_dict={}\n",
        "for j in sorted(list(set(data['year'])))[:-1]:\n",
        "  prev_year = 0\n",
        "  next_year = 0\n",
        "  for col, row in data.iterrows():\n",
        "    if row['year'] == j and row['title_field'] == 'Occupied Housing Units':\n",
        "      prev_year += row['value']\n",
        "    if row['year'] == j+1 and row['title_field'] == 'Occupied Housing Units':\n",
        "      next_year += row['value']\n",
        "  house_dict[str(j)+'-'+str(j+1)] = abs(prev_year - next_year)"
      ],
      "metadata": {
        "id": "AotsKoim4fTy"
      },
      "execution_count": null,
      "outputs": []
    },
    {
      "cell_type": "code",
      "source": [
        "sorted_list=sorted(house_dict.values())\n",
        "sorted_dict={}\n",
        "for i in sorted_list:\n",
        "  for k in house_dict.keys():\n",
        "    if(house_dict[k]==i):\n",
        "      sorted_dict[k]=house_dict[k]\n",
        "for key,value in sorted_dict.items():\n",
        "  print(key,\":\",value)"
      ],
      "metadata": {
        "id": "f72eoPpQcg9y",
        "colab": {
          "base_uri": "https://localhost:8080/"
        },
        "outputId": "084c0c27-a4f4-4df3-fe89-e00d6f415d1a"
      },
      "execution_count": null,
      "outputs": [
        {
          "output_type": "stream",
          "name": "stdout",
          "text": [
            "2010-2011 : 303\n",
            "2008-2009 : 795\n",
            "2011-2012 : 1404\n",
            "2012-2013 : 1565\n",
            "2013-2014 : 2622\n",
            "2009-2010 : 5091\n"
          ]
        }
      ]
    },
    {
      "cell_type": "markdown",
      "source": [
        "2)"
      ],
      "metadata": {
        "id": "vt_BA7rc9fpk"
      }
    },
    {
      "cell_type": "code",
      "source": [
        "for j in sorted(list(set(data['year']))):\n",
        "  total_house = 0\n",
        "  occupied = 0\n",
        "  vacant = 0\n",
        "  year = 0\n",
        "  for col, row in data.iterrows():\n",
        "    if row['year'] == j and row['title_field'] == 'Total Housing Units' :\n",
        "      year = row['year']\n",
        "      total_house = row['value']\n",
        "    if row['year'] == j and  row['title_field'] == 'Occupied Housing Units' :\n",
        "      occupied = row['value']\n",
        "    if row['year'] == j and  row['title_field'] == 'Vacant Housing Units' :\n",
        "      vacant = row['value']\n",
        "  percent_occupied = int((occupied / total_house) * 100)\n",
        "  percent_vacant = int((vacant / total_house) * 100)\n",
        "  print(year,\" \",str(percent_vacant)+'%',\" \",str(percent_occupied)+'%')"
      ],
      "metadata": {
        "colab": {
          "base_uri": "https://localhost:8080/"
        },
        "id": "beg5cTNY4pYI",
        "outputId": "fc0b91cc-2c90-4743-8733-17d57d068f95"
      },
      "execution_count": null,
      "outputs": [
        {
          "output_type": "stream",
          "name": "stdout",
          "text": [
            "2008   10%   89%\n",
            "2009   9%   90%\n",
            "2010   8%   91%\n",
            "2011   9%   90%\n",
            "2012   6%   93%\n",
            "2013   8%   91%\n",
            "2014   5%   94%\n"
          ]
        }
      ]
    },
    {
      "cell_type": "markdown",
      "source": [
        "3)"
      ],
      "metadata": {
        "id": "DbJID9nJ9hBq"
      }
    },
    {
      "cell_type": "code",
      "source": [
        "n_maximum=0\n",
        "vacant_maximum=0\n",
        "n_year=0\n",
        "vacant_year=0\n",
        "for j in sorted(list(set(data['year']))):\n",
        " for col,row in data.iterrows():\n",
        "    if row['year'] == j and  row['title_field'] == 'Occupied Housing Units' :\n",
        "      if row['value']>n_maximum:\n",
        "        n_maximum=row['value']\n",
        "        n_year=row['year']\n",
        "    if row['year'] == j and  row['title_field'] == 'Vacant Housing Units' :\n",
        "      if row['value']>vacant_maximum:\n",
        "        vacant_maximum=row['value']\n",
        "        vacant_year=row['year']\n",
        "print('                       ', 'year',   'value')\n",
        "print('Occupied Housing Units ' , n_year,   n_maximum)\n",
        "print('Vacant Housing Units   ' ,  vacant_year , vacant_maximum)"
      ],
      "metadata": {
        "id": "AfmxSapE4qGk",
        "colab": {
          "base_uri": "https://localhost:8080/"
        },
        "outputId": "bc428c75-a2b4-42c3-d1aa-d012f161c235"
      },
      "execution_count": null,
      "outputs": [
        {
          "output_type": "stream",
          "name": "stdout",
          "text": [
            "                        year value\n",
            "Occupied Housing Units  2014 46295\n",
            "Vacant Housing Units    2008 4483\n"
          ]
        }
      ]
    },
    {
      "cell_type": "markdown",
      "source": [
        "4)"
      ],
      "metadata": {
        "id": "uxVLwRCc9icP"
      }
    },
    {
      "cell_type": "code",
      "source": [
        "total_housing = list()\n",
        "for col, row in data.iterrows():\n",
        "  if row['title_field'] == 'Total Housing Units':\n",
        "    total_housing.append(row['value'])"
      ],
      "metadata": {
        "id": "EeJfQvp24uHz"
      },
      "execution_count": null,
      "outputs": []
    },
    {
      "cell_type": "code",
      "source": [
        "total = len(total_housing)\n",
        "d_v = 0\n",
        "for i in total_housing:\n",
        "  d_v += (1/i)\n",
        "print(total/d_v)"
      ],
      "metadata": {
        "id": "3lDLYsv24wNZ",
        "colab": {
          "base_uri": "https://localhost:8080/"
        },
        "outputId": "13bbe692-0ef3-450a-8bc7-17655f0c02c5"
      },
      "execution_count": null,
      "outputs": [
        {
          "output_type": "stream",
          "name": "stdout",
          "text": [
            "44398.28543969185\n"
          ]
        }
      ]
    },
    {
      "cell_type": "code",
      "source": [],
      "metadata": {
        "id": "_mHDjzS9fTVf"
      },
      "execution_count": null,
      "outputs": []
    }
  ],
  "metadata": {
    "colab": {
      "provenance": []
    },
    "kernelspec": {
      "display_name": "Python 3 (ipykernel)",
      "language": "python",
      "name": "python3"
    },
    "language_info": {
      "codemirror_mode": {
        "name": "ipython",
        "version": 3
      },
      "file_extension": ".py",
      "mimetype": "text/x-python",
      "name": "python",
      "nbconvert_exporter": "python",
      "pygments_lexer": "ipython3",
      "version": "3.9.12"
    }
  },
  "nbformat": 4,
  "nbformat_minor": 0
}